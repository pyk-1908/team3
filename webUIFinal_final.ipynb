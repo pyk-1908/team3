{
  "cells": [
    {
      "cell_type": "code",
      "execution_count": 1,
      "metadata": {
        "colab": {
          "base_uri": "https://localhost:8080/"
        },
        "id": "Qe7PCngXt-Xl",
        "outputId": "ddfdbe1d-dabf-4adf-cf4f-f9903558ac0d"
      },
      "outputs": [
        {
          "name": "stdout",
          "output_type": "stream",
          "text": [
            "Collecting streamlit\n",
            "  Downloading streamlit-1.46.1-py3-none-any.whl.metadata (9.0 kB)\n",
            "Collecting pyngrok\n",
            "  Downloading pyngrok-7.2.11-py3-none-any.whl.metadata (9.4 kB)\n",
            "Requirement already satisfied: pandas in /usr/local/lib/python3.11/dist-packages (2.2.2)\n",
            "Requirement already satisfied: scikit-learn in /usr/local/lib/python3.11/dist-packages (1.6.1)\n",
            "Requirement already satisfied: altair<6,>=4.0 in /usr/local/lib/python3.11/dist-packages (from streamlit) (5.5.0)\n",
            "Requirement already satisfied: blinker<2,>=1.5.0 in /usr/local/lib/python3.11/dist-packages (from streamlit) (1.9.0)\n",
            "Requirement already satisfied: cachetools<7,>=4.0 in /usr/local/lib/python3.11/dist-packages (from streamlit) (5.5.2)\n",
            "Requirement already satisfied: click<9,>=7.0 in /usr/local/lib/python3.11/dist-packages (from streamlit) (8.2.1)\n",
            "Requirement already satisfied: numpy<3,>=1.23 in /usr/local/lib/python3.11/dist-packages (from streamlit) (2.0.2)\n",
            "Requirement already satisfied: packaging<26,>=20 in /usr/local/lib/python3.11/dist-packages (from streamlit) (24.2)\n",
            "Requirement already satisfied: pillow<12,>=7.1.0 in /usr/local/lib/python3.11/dist-packages (from streamlit) (11.2.1)\n",
            "Requirement already satisfied: protobuf<7,>=3.20 in /usr/local/lib/python3.11/dist-packages (from streamlit) (5.29.5)\n",
            "Requirement already satisfied: pyarrow>=7.0 in /usr/local/lib/python3.11/dist-packages (from streamlit) (18.1.0)\n",
            "Requirement already satisfied: requests<3,>=2.27 in /usr/local/lib/python3.11/dist-packages (from streamlit) (2.32.3)\n",
            "Requirement already satisfied: tenacity<10,>=8.1.0 in /usr/local/lib/python3.11/dist-packages (from streamlit) (8.5.0)\n",
            "Requirement already satisfied: toml<2,>=0.10.1 in /usr/local/lib/python3.11/dist-packages (from streamlit) (0.10.2)\n",
            "Requirement already satisfied: typing-extensions<5,>=4.4.0 in /usr/local/lib/python3.11/dist-packages (from streamlit) (4.14.0)\n",
            "Collecting watchdog<7,>=2.1.5 (from streamlit)\n",
            "  Downloading watchdog-6.0.0-py3-none-manylinux2014_x86_64.whl.metadata (44 kB)\n",
            "\u001b[2K     \u001b[90m━━━━━━━━━━━━━━━━━━━━━━━━━━━━━━━━━━━━━━━━\u001b[0m \u001b[32m44.3/44.3 kB\u001b[0m \u001b[31m3.0 MB/s\u001b[0m eta \u001b[36m0:00:00\u001b[0m\n",
            "\u001b[?25hRequirement already satisfied: gitpython!=3.1.19,<4,>=3.0.7 in /usr/local/lib/python3.11/dist-packages (from streamlit) (3.1.44)\n",
            "Collecting pydeck<1,>=0.8.0b4 (from streamlit)\n",
            "  Downloading pydeck-0.9.1-py2.py3-none-any.whl.metadata (4.1 kB)\n",
            "Requirement already satisfied: tornado!=6.5.0,<7,>=6.0.3 in /usr/local/lib/python3.11/dist-packages (from streamlit) (6.4.2)\n",
            "Requirement already satisfied: PyYAML>=5.1 in /usr/local/lib/python3.11/dist-packages (from pyngrok) (6.0.2)\n",
            "Requirement already satisfied: python-dateutil>=2.8.2 in /usr/local/lib/python3.11/dist-packages (from pandas) (2.9.0.post0)\n",
            "Requirement already satisfied: pytz>=2020.1 in /usr/local/lib/python3.11/dist-packages (from pandas) (2025.2)\n",
            "Requirement already satisfied: tzdata>=2022.7 in /usr/local/lib/python3.11/dist-packages (from pandas) (2025.2)\n",
            "Requirement already satisfied: scipy>=1.6.0 in /usr/local/lib/python3.11/dist-packages (from scikit-learn) (1.15.3)\n",
            "Requirement already satisfied: joblib>=1.2.0 in /usr/local/lib/python3.11/dist-packages (from scikit-learn) (1.5.1)\n",
            "Requirement already satisfied: threadpoolctl>=3.1.0 in /usr/local/lib/python3.11/dist-packages (from scikit-learn) (3.6.0)\n",
            "Requirement already satisfied: jinja2 in /usr/local/lib/python3.11/dist-packages (from altair<6,>=4.0->streamlit) (3.1.6)\n",
            "Requirement already satisfied: jsonschema>=3.0 in /usr/local/lib/python3.11/dist-packages (from altair<6,>=4.0->streamlit) (4.24.0)\n",
            "Requirement already satisfied: narwhals>=1.14.2 in /usr/local/lib/python3.11/dist-packages (from altair<6,>=4.0->streamlit) (1.45.0)\n",
            "Requirement already satisfied: gitdb<5,>=4.0.1 in /usr/local/lib/python3.11/dist-packages (from gitpython!=3.1.19,<4,>=3.0.7->streamlit) (4.0.12)\n",
            "Requirement already satisfied: six>=1.5 in /usr/local/lib/python3.11/dist-packages (from python-dateutil>=2.8.2->pandas) (1.17.0)\n",
            "Requirement already satisfied: charset-normalizer<4,>=2 in /usr/local/lib/python3.11/dist-packages (from requests<3,>=2.27->streamlit) (3.4.2)\n",
            "Requirement already satisfied: idna<4,>=2.5 in /usr/local/lib/python3.11/dist-packages (from requests<3,>=2.27->streamlit) (3.10)\n",
            "Requirement already satisfied: urllib3<3,>=1.21.1 in /usr/local/lib/python3.11/dist-packages (from requests<3,>=2.27->streamlit) (2.4.0)\n",
            "Requirement already satisfied: certifi>=2017.4.17 in /usr/local/lib/python3.11/dist-packages (from requests<3,>=2.27->streamlit) (2025.6.15)\n",
            "Requirement already satisfied: smmap<6,>=3.0.1 in /usr/local/lib/python3.11/dist-packages (from gitdb<5,>=4.0.1->gitpython!=3.1.19,<4,>=3.0.7->streamlit) (5.0.2)\n",
            "Requirement already satisfied: MarkupSafe>=2.0 in /usr/local/lib/python3.11/dist-packages (from jinja2->altair<6,>=4.0->streamlit) (3.0.2)\n",
            "Requirement already satisfied: attrs>=22.2.0 in /usr/local/lib/python3.11/dist-packages (from jsonschema>=3.0->altair<6,>=4.0->streamlit) (25.3.0)\n",
            "Requirement already satisfied: jsonschema-specifications>=2023.03.6 in /usr/local/lib/python3.11/dist-packages (from jsonschema>=3.0->altair<6,>=4.0->streamlit) (2025.4.1)\n",
            "Requirement already satisfied: referencing>=0.28.4 in /usr/local/lib/python3.11/dist-packages (from jsonschema>=3.0->altair<6,>=4.0->streamlit) (0.36.2)\n",
            "Requirement already satisfied: rpds-py>=0.7.1 in /usr/local/lib/python3.11/dist-packages (from jsonschema>=3.0->altair<6,>=4.0->streamlit) (0.26.0)\n",
            "Downloading streamlit-1.46.1-py3-none-any.whl (10.1 MB)\n",
            "\u001b[2K   \u001b[90m━━━━━━━━━━━━━━━━━━━━━━━━━━━━━━━━━━━━━━━━\u001b[0m \u001b[32m10.1/10.1 MB\u001b[0m \u001b[31m46.3 MB/s\u001b[0m eta \u001b[36m0:00:00\u001b[0m\n",
            "\u001b[?25hDownloading pyngrok-7.2.11-py3-none-any.whl (25 kB)\n",
            "Downloading pydeck-0.9.1-py2.py3-none-any.whl (6.9 MB)\n",
            "\u001b[2K   \u001b[90m━━━━━━━━━━━━━━━━━━━━━━━━━━━━━━━━━━━━━━━━\u001b[0m \u001b[32m6.9/6.9 MB\u001b[0m \u001b[31m76.7 MB/s\u001b[0m eta \u001b[36m0:00:00\u001b[0m\n",
            "\u001b[?25hDownloading watchdog-6.0.0-py3-none-manylinux2014_x86_64.whl (79 kB)\n",
            "\u001b[2K   \u001b[90m━━━━━━━━━━━━━━━━━━━━━━━━━━━━━━━━━━━━━━━━\u001b[0m \u001b[32m79.1/79.1 kB\u001b[0m \u001b[31m5.3 MB/s\u001b[0m eta \u001b[36m0:00:00\u001b[0m\n",
            "\u001b[?25hInstalling collected packages: watchdog, pyngrok, pydeck, streamlit\n",
            "Successfully installed pydeck-0.9.1 pyngrok-7.2.11 streamlit-1.46.1 watchdog-6.0.0\n"
          ]
        }
      ],
      "source": [
        "# Install Streamlit, ngrok, and ML libs\n",
        "!pip install streamlit pyngrok pandas scikit-learn"
      ]
    },
    {
      "cell_type": "code",
      "execution_count": 2,
      "metadata": {
        "colab": {
          "base_uri": "https://localhost:8080/"
        },
        "id": "hslDVa8RuGeF",
        "outputId": "5ec1fbf7-ebc9-4c28-b72c-955a8d28ddde"
      },
      "outputs": [
        {
          "name": "stdout",
          "output_type": "stream",
          "text": [
            "Cloning into 'team3'...\n",
            "remote: Enumerating objects: 421, done.\u001b[K\n",
            "remote: Counting objects: 100% (219/219), done.\u001b[K\n",
            "remote: Compressing objects: 100% (157/157), done.\u001b[K\n",
            "remote: Total 421 (delta 90), reused 152 (delta 50), pack-reused 202 (from 1)\u001b[K\n",
            "Receiving objects: 100% (421/421), 42.20 MiB | 11.37 MiB/s, done.\n",
            "Resolving deltas: 100% (194/194), done.\n",
            "/content/team3\n"
          ]
        }
      ],
      "source": [
        "!git clone https://github.com/MostafaElgawad/team3.git\n",
        "%cd team3"
      ]
    },
    {
      "cell_type": "code",
      "execution_count": 3,
      "metadata": {
        "colab": {
          "base_uri": "https://localhost:8080/"
        },
        "id": "_AEm5GIUuMfv",
        "outputId": "4d57a18e-0154-4690-a8fa-0844fb59cb8b"
      },
      "outputs": [
        {
          "name": "stdout",
          "output_type": "stream",
          "text": [
            "Switched to a new branch 'webUI-prototype1'\n"
          ]
        }
      ],
      "source": [
        "!git checkout -b webUI-prototype1"
      ]
    },
    {
      "cell_type": "code",
      "execution_count": 4,
      "metadata": {
        "id": "0wBfJharuQR7"
      },
      "outputs": [],
      "source": [
        "!touch Pipeline/__init__.py"
      ]
    },
    {
      "cell_type": "code",
      "execution_count": 5,
      "metadata": {
        "id": "c-j3GGebv1P8"
      },
      "outputs": [],
      "source": [
        "%%bash\n",
        "mkdir -p webUI"
      ]
    },
    {
      "cell_type": "code",
      "execution_count": 6,
      "metadata": {
        "colab": {
          "base_uri": "https://localhost:8080/"
        },
        "id": "AhYoWIf86y2N",
        "outputId": "9c7fc217-0f7f-4363-9fda-1a9744f2ce21"
      },
      "outputs": [
        {
          "name": "stdout",
          "output_type": "stream",
          "text": [
            "Overwriting /content/team3/webUI/streamlit_app.py\n"
          ]
        }
      ],
      "source": [
        "%%writefile /content/team3/webUI/streamlit_app.py\n",
        "import os\n",
        "import sys\n",
        "from PIL import Image\n",
        "\n",
        "# Make project root importable\n",
        "sys.path.append(os.path.abspath(os.path.join(os.path.dirname(__file__), \"..\")))\n",
        "\n",
        "import streamlit as st\n",
        "import pandas as pd\n",
        "import altair as alt\n",
        "import matplotlib.pyplot as plt\n",
        "from sklearn.ensemble import RandomForestRegressor\n",
        "from Pipeline.models import get_model\n",
        "\n",
        "# --- Page config ---\n",
        "st.set_page_config(layout=\"wide\", page_title=\"BCG Churn Analytics\")\n",
        "\n",
        "st.markdown(\"\"\"\n",
        "<style>\n",
        "body, .block-container, [data-testid=\"stAppViewContainer\"] {\n",
        "    background-color: #ffffff !important;\n",
        "}\n",
        "</style>\n",
        "\"\"\", unsafe_allow_html=True)\n",
        "\n",
        "# --- Global CSS tweaks & Slider styling ---\n",
        "st.markdown(\"\"\"\n",
        "<style>\n",
        "  [data-testid=\"stSidebar\"] { background-color: #DCF9E3 !important; }\n",
        "  .stSidebar .stRadio > label,\n",
        "  .stSidebar .stSlider > div,\n",
        "  .stSidebar .stNumberInput > label {\n",
        "    color: #004734 !important;\n",
        "  }\n",
        "  input[type=\"range\"]::-webkit-slider-runnable-track { background: #004734; height:6px; border-radius:3px; }\n",
        "  input[type=\"range\"]::-webkit-slider-thumb {\n",
        "    -webkit-appearance:none; margin-top:-6px;\n",
        "    background:#fff; border:2px solid #004734;\n",
        "    height:16px;width:16px;border-radius:50%;cursor:pointer;\n",
        "  }\n",
        "  input[type=\"range\"]::-moz-range-track { background: #004734; height:6px; border-radius:3px; }\n",
        "  input[type=\"range\"]::-moz-range-thumb {\n",
        "    background:#fff; border:2px solid #004734;\n",
        "    height:16px;width:16px;border-radius:50%;cursor:pointer;\n",
        "  }\n",
        "  input[type=\"range\"]::-ms-fill-lower  { background: #004734; }\n",
        "  input[type=\"range\"]::-ms-fill-upper  { background: #004734; }\n",
        "  input[type=\"range\"]::-ms-thumb {\n",
        "    background:#fff; border:2px solid #004734;\n",
        "    height:16px;width:16px;border-radius:50%;cursor:pointer;\n",
        "  }\n",
        "</style>\n",
        "\"\"\", unsafe_allow_html=True)\n",
        "\n",
        "# --- Landing Page state ---\n",
        "if \"started\" not in st.session_state:\n",
        "    st.session_state.started = False\n",
        "\n",
        "# --- Landing Page ---\n",
        "if not st.session_state.started:\n",
        "    left, right = st.columns([1,1], gap=\"large\")\n",
        "    with left:\n",
        "        st.image(os.path.join(os.path.dirname(__file__), \"assets/bcg_logo.png\"), width=150)\n",
        "        st.markdown(\"<div style='height:1rem;'></div>\", unsafe_allow_html=True)\n",
        "        st.image(os.path.join(os.path.dirname(__file__), \"assets/uni_saarland_logo.png\"), width=150)\n",
        "        st.markdown(\"<h1 style='color:#003e4f; font-size:3rem;'>BCG Churn Analytics</h1>\", unsafe_allow_html=True)\n",
        "        st.markdown(\"<p style='color:#355c60; font-size:1.2rem;'>Predict churn before it happens with powerful visualizations and predictions.</p>\", unsafe_allow_html=True)\n",
        "        if st.button(\"Get Started\"):\n",
        "            st.session_state.started = True\n",
        "    with right:\n",
        "        try:\n",
        "            st.image(Image.open(os.path.join(os.path.dirname(__file__), \"assets/landing.png\")), use_container_width=True)\n",
        "        except FileNotFoundError:\n",
        "            st.error(\"Landing image not found\")\n",
        "    st.stop()\n",
        "\n",
        "# --- Data loading & models ---\n",
        "@st.cache_data\n",
        "def load_data():\n",
        "    df = pd.read_csv(\"Pipeline/data/Cate_added_data.csv\")\n",
        "    df = df.rename(columns={\"QuarterInt\":\"QuarterIdx\",\"CATE_DR\":\"CATE_CausalML\"})\n",
        "    df = df[[\"Provider\",\"Regionality\",\"QuarterIdx\",\"RiskFactor\",\"Members_Lag\",\"Rate_Lag\",\"ChurnRate\",\"CATE_CausalML\"]]\n",
        "    df[\"Provider\"] = df[\"Provider\"].str.strip()\n",
        "    for c in [\"QuarterIdx\",\"RiskFactor\",\"Members_Lag\",\"Rate_Lag\",\"ChurnRate\",\"CATE_CausalML\"]:\n",
        "        df[c] = pd.to_numeric(df[c], errors=\"coerce\")\n",
        "    return df\n",
        "\n",
        "@st.cache_data\n",
        "def load_time_series():\n",
        "    return pd.read_csv(\"Pipeline/data/Final.csv\")\n",
        "\n",
        "@st.cache_resource\n",
        "def fit_predictive(df):\n",
        "    m = get_model(\"gradient_boosting\")\n",
        "    m.fit(df[[\"Rate_Lag\",\"Members_Lag\",\"RiskFactor\",\"QuarterIdx\"]], df[\"ChurnRate\"])\n",
        "    return m\n",
        "\n",
        "@st.cache_resource\n",
        "def fit_cate_model(df):\n",
        "    #m = RandomForestRegressor(random_state=42)\n",
        "    m =  get_model(\"gradient_boosting\")\n",
        "    m.fit(df[[\"RiskFactor\",\"Rate_Lag\",\"Members_Lag\",\"QuarterIdx\"]], df[\"CATE_CausalML\"])\n",
        "    return m\n",
        "\n",
        "def get_provider_aggregated_data(df, providers):\n",
        "    if not isinstance(providers, list):\n",
        "        providers = [providers]\n",
        "    out = {}\n",
        "    for p in providers:\n",
        "        sub = df[df.Provider.str.contains(p, case=False, na=False)]\n",
        "        if sub.empty:\n",
        "            out[p] = None\n",
        "            continue\n",
        "        agg = sub.groupby(\"Year\").agg(\n",
        "            ACR=(\"ACR\",\"mean\"),\n",
        "            ChurnRate=(\"ChurnRate\",\"mean\"),\n",
        "            Members=(\"Members\",\"sum\")\n",
        "        ).reset_index()\n",
        "        out[p] = agg if not agg.empty else None\n",
        "    return out\n",
        "\n",
        "def plot_aggregated_provider_data(aggregated_data):\n",
        "    fig, (ax1, ax2) = plt.subplots(1,2,figsize=(16,6))\n",
        "    plotted=False\n",
        "    for name,data in aggregated_data.items():\n",
        "        if data is None: continue\n",
        "        ax1.plot(data.Year, data.ACR, marker=\"o\", label=f\"ACR – {name}\")\n",
        "        ax2.plot(data.Year, data.ChurnRate, marker=\"s\", label=f\"Churn – {name}\")\n",
        "        plotted=True\n",
        "    if not plotted:\n",
        "        st.warning(\"No valid data.\")\n",
        "        return\n",
        "    ax1.set(title=\"ACR Trends\", xlabel=\"Year\", ylabel=\"Average ACR\"); ax1.grid(alpha=0.3); ax1.legend()\n",
        "    ax2.set(title=\"Churn Trends\", xlabel=\"Year\", ylabel=\"Average Churn Rate\"); ax2.grid(alpha=0.3); ax2.legend()\n",
        "    st.pyplot(fig)\n",
        "\n",
        "def plot_provider_data(df, providers):\n",
        "    agg = get_provider_aggregated_data(df, providers)\n",
        "    plot_aggregated_provider_data(agg)\n",
        "\n",
        "\n",
        "\n",
        "# --- Load everything ---\n",
        "df     = load_data()\n",
        "df2    = load_time_series()\n",
        "pred   = fit_predictive(df)\n",
        "cate   = fit_cate_model(df)\n",
        "plist  = df[\"Provider\"].unique().tolist()\n",
        "\n",
        "# --- Header ---\n",
        "c1, c2, c3 = st.columns([2,6,2], gap=\"small\")\n",
        "with c1: st.image(os.path.join(os.path.dirname(__file__), \"assets/bcg_logo.png\"), width=120)\n",
        "with c2: st.markdown(\"<h1 style='text-align:center;color:#004734;'>Churn Rate Insights Dashboard</h1>\", unsafe_allow_html=True)\n",
        "with c3: st.image(os.path.join(os.path.dirname(__file__), \"assets/uni_saarland_logo.png\"), width=120)\n",
        "\n",
        "\n",
        "# --- Sidebar ---\n",
        "st.sidebar.header(\"🔧 Inputs\")\n",
        "mode = st.sidebar.radio(\"Mode\", [\"Single Provider\",\"Compare Providers\",\"Analysis\"])\n",
        "\n",
        "if mode==\"Single Provider\":\n",
        "    prov  = st.sidebar.selectbox(\"Provider\", plist)\n",
        "    acr   = st.sidebar.slider(\" Additional Contribution Rate (ACR)\", df.Rate_Lag.min(), df.Rate_Lag.max(), df.Rate_Lag.mean(), step=0.1)\n",
        "    risk  = st.sidebar.number_input(\"Risk Factor\", df.RiskFactor.min(), df.RiskFactor.max(), df.RiskFactor.mean())\n",
        "    selected=[prov]\n",
        "\n",
        "elif mode==\"Compare Providers\":\n",
        "    selected = st.sidebar.multiselect(\"Providers (exactly 2)\", plist, default=plist[:2])\n",
        "    if len(selected)!=2: st.sidebar.warning(\"Select exactly 2\"); st.stop()\n",
        "    acr1 = st.sidebar.slider(f\" ACR for {selected[0]}\", df.Rate_Lag.min(), df.Rate_Lag.max(), df.Rate_Lag.mean(), step=0.1)\n",
        "    risk1= st.sidebar.number_input(f\"Risk Factor for {selected[0]}\", df.RiskFactor.min(), df.RiskFactor.max(), df.RiskFactor.mean())\n",
        "    acr2 = st.sidebar.slider(f\" ACR for {selected[1]}\", df.Rate_Lag.min(), df.Rate_Lag.max(), df.Rate_Lag.mean(), step=0.1)\n",
        "    risk2= st.sidebar.number_input(f\"Risk Factor for {selected[1]}\", df.Rate_Lag.min(), df.Rate_Lag.max(), df.Rate_Lag.mean())\n",
        "else:\n",
        "    selected = st.sidebar.multiselect(\"Select Providers to analyze\", plist, default=plist[:3])\n",
        "    if not selected: st.sidebar.warning(\"Pick at least one\"); st.stop()\n",
        "\n",
        "st.markdown(\"---\")\n",
        "\n",
        "def compute_metrics(provider, rf, ac):\n",
        "    sub = df[df.Provider==provider].sort_values(\"QuarterIdx\").iloc[-1]\n",
        "    c = cate.predict([[rf, sub.Rate_Lag, sub.Members_Lag, sub.QuarterIdx]])[0] * ac\n",
        "    p = pred.predict([[sub.Rate_Lag+ac, sub.Members_Lag, rf, sub.QuarterIdx+1]])[0]\n",
        "    return float(c), float(p)\n",
        "\n",
        "# --- Single Provider Output ---\n",
        "if mode==\"Single Provider\":\n",
        "    c_tot, p = compute_metrics(selected[0], risk, acr)\n",
        "    st.subheader(f\"Results for {selected[0]}\")\n",
        "\n",
        "    # Causal\n",
        "    dfc = pd.DataFrame({\"Metric\":[\"Causal churn\"], \"Value\":[c_tot]})\n",
        "    m = abs(c_tot) * 1.2\n",
        "    base = alt.Chart(dfc).encode(\n",
        "    y=alt.Y(\"Metric:N\", axis=None),\n",
        "    x=alt.X(\"Value:Q\", scale=alt.Scale(domain=[-m, m]))\n",
        "    )\n",
        "\n",
        "    bar=base.mark_bar(size=15, color=\"#2ca02c\" if c_tot<0 else \"#de425b\")\n",
        "    pt =base.mark_circle(size=250, color=\"#000000\")\n",
        "    txt_pos = base.mark_text(align='left', dx=5, color=\"#004734\").transform_filter(alt.datum.Value>0).encode(\n",
        "        text=alt.Text(\"Value:Q\", format=\".4f\")\n",
        "    )\n",
        "    txt_neg = base.mark_text(align='right',dx=-5, color=\"#004734\").transform_filter(alt.datum.Value<0).encode(\n",
        "        text=alt.Text(\"Value:Q\", format=\".4f\")\n",
        "    )\n",
        "    st.altair_chart((bar+pt+txt_pos+txt_neg).properties(title=\"CauseHealPred Churn rate\", height=120), use_container_width=True)\n",
        "    st.markdown(\"\"\"\n",
        "        <div style=\"background-color:#f9f9f9; border-left:5px solid #3498db; padding:1rem; border-radius:8px\">\n",
        "        <strong>💡 Info:</strong> <br> A negative churn rate indicates a gain of members for the selected provider.<br>\n",
        "         A positive churn rate indicates a loss of members for the selected provider.\n",
        "    \"\"\", unsafe_allow_html=True)\n",
        "\n",
        "    st.markdown(\"---\")\n",
        "    # Predictive\n",
        "    dfp = pd.DataFrame({\"Metric\":[\"Predicted churn\"], \"Value\":[p]})\n",
        "    m = abs(p) * 1.2\n",
        "    base = alt.Chart(dfp).encode(\n",
        "    y=alt.Y(\"Metric:N\", axis=None),\n",
        "    x=alt.X(\"Value:Q\", scale=alt.Scale(domain=[-m, m]))\n",
        "    )\n",
        "\n",
        "    bar=base.mark_bar(size=15, color=\"#2ca02c\" if p<0 else \"#de425b\")\n",
        "    pt =base.mark_circle(size=250, color=\"#000000\")\n",
        "    txt_pos = base.mark_text(align='left', dx=5, color=\"#004734\").transform_filter(alt.datum.Value>0).encode(\n",
        "        text=alt.Text(\"Value:Q\", format=\".4f\")\n",
        "    )\n",
        "    txt_neg = base.mark_text(align='right',dx=-5, color=\"#004734\").transform_filter(alt.datum.Value<0).encode(\n",
        "        text=alt.Text(\"Value:Q\", format=\".4f\")\n",
        "    )\n",
        "    st.altair_chart((bar+pt+txt_pos+txt_neg).properties(title=\"Predictive Modeling Churn rate (Using basic predictive models)\", height=120), use_container_width=True)\n",
        "    st.markdown(\"\"\"\n",
        "    <div style=\"background-color:#f9f9f9; border-left:5px solid #3498db; padding:1rem; border-radius:8px\">\n",
        "        <strong>💡 Info:</strong> The model-predicted churn rate is based on the selected Additional Contribution Rate (ACR) and risk factor without causal insights.\n",
        "    </div>\n",
        "    \"\"\", unsafe_allow_html=True)\n",
        "\n",
        "# --- Compare Providers Output ---\n",
        "elif mode==\"Compare Providers\":\n",
        "    c1,p1 = compute_metrics(selected[0], risk1, acr1)\n",
        "    c2,p2 = compute_metrics(selected[1], risk2, acr2)\n",
        "    r1 = df.loc[df.Provider==selected[0],\"Regionality\"].iloc[-1]\n",
        "    r2 = df.loc[df.Provider==selected[1],\"Regionality\"].iloc[-1]\n",
        "    dfc = pd.DataFrame([\n",
        "        {\"Provider\":selected[0],\"Regionality\":r1,\"Causal\":c1,\"Predicted\":p1},\n",
        "        {\"Provider\":selected[1],\"Regionality\":r2,\"Causal\":c2,\"Predicted\":p2}\n",
        "    ])\n",
        "\n",
        "    with st.expander(\"👁️ Comparison table\"):\n",
        "        st.table(dfc[[\"Provider\",\"Regionality\",\"Causal\",\"Predicted\"]]\n",
        "          .style.format({\"Causal\":\"{:.4f}\",\"Predicted\":\"{:.4f}\"}))\n",
        "\n",
        "    st.markdown(\"---\")\n",
        "\n",
        "    # Causal compare\n",
        "    m=max(abs(c1),abs(c2))*1.2\n",
        "    base=alt.Chart(dfc).encode(\n",
        "        y=alt.Y(\"Provider:N\",axis=None),\n",
        "        x=alt.X(\"Causal:Q\",scale=alt.Scale(domain=[-m,m]),title=None)\n",
        "    )\n",
        "    bar=base.mark_bar(\n",
        "        cornerRadiusTopLeft=4,\n",
        "        cornerRadiusTopRight=4\n",
        "    ).encode(\n",
        "        color=alt.Color(\"Provider:N\",scale=alt.Scale(domain=selected,range=[\"#2ca02c\",\"#1f77b4\"])),\n",
        "        size=alt.value(15)\n",
        "    )\n",
        "    pt = base.mark_circle(size=300, color=\"#004734\")\n",
        "    txt_p = base.mark_text(align='left', dx=5, color=\"#004734\").transform_filter(alt.datum.Causal>0).encode(\n",
        "        text=alt.Text(\"Causal:Q\", format=\".4f\")\n",
        "    )\n",
        "    txt_n = base.mark_text(align='right', dx=-5, color=\"#004734\").transform_filter(alt.datum.Causal<0).encode(\n",
        "        text=alt.Text(\"Causal:Q\", format=\".4f\")\n",
        "    )\n",
        "    st.altair_chart((bar + pt + txt_p + txt_n).properties(title=\"CauseHealPred Churn rate\", height=200), use_container_width=True)\n",
        "    st.markdown(\"\"\"\n",
        "    <div style=\"background-color:#f9f9f9; border-left:5px solid #3498db; padding:1rem; border-radius:8px\">\n",
        "        <strong>💡 Info:</strong>  How ACR’s impact on churn differs between providers.\n",
        "    </div>\n",
        "    \"\"\", unsafe_allow_html=True)\n",
        "\n",
        "    st.markdown(\"---\")\n",
        "\n",
        "    # Predicted compare\n",
        "    m=max(abs(p1),abs(p2))*1.2\n",
        "    base=alt.Chart(dfc).encode(\n",
        "        y=alt.Y(\"Provider:N\",axis=None),\n",
        "        x=alt.X(\"Predicted:Q\",scale=alt.Scale(domain=[-m,m]),title=None)\n",
        "    )\n",
        "    bar=base.mark_bar(\n",
        "        cornerRadiusTopLeft=4,\n",
        "        cornerRadiusTopRight=4\n",
        "    ).encode(\n",
        "        color=alt.Color(\"Provider:N\",scale=alt.Scale(domain=selected,range=[\"#2ca02c\",\"#1f77b4\"])),\n",
        "        size=alt.value(15)\n",
        "    )\n",
        "    pt = base.mark_circle(size=300, color=\"#004734\")\n",
        "    txt_p = base.mark_text(align='left', dx=5, color=\"#004734\").transform_filter(alt.datum.Predicted>0).encode(\n",
        "        text=alt.Text(\"Predicted:Q\", format=\".4f\")\n",
        "    )\n",
        "    txt_n = base.mark_text(align='right', dx=-5, color=\"#004734\").transform_filter(alt.datum.Predicted<0).encode(\n",
        "        text=alt.Text(\"Predicted:Q\", format=\".4f\")\n",
        "    )\n",
        "    st.altair_chart((bar + pt + txt_p + txt_n).properties(title=\"Predictive Modeling Churn rate (Using basic predictive models)\", height=200), use_container_width=True)\n",
        "    st.markdown(\"\"\"\n",
        "    <div style=\"background-color:#f9f9f9; border-left:5px solid #3498db; padding:1rem; border-radius:8px\">\n",
        "        <strong>💡 Info:</strong>  Each provider’s model‐predicted churn under its own scenario.\n",
        "    </div>\n",
        "    \"\"\", unsafe_allow_html=True)\n",
        "\n",
        "# --- Analysis ---\n",
        "else:\n",
        "    st.subheader(\"Aggregated Trends Analysis\")\n",
        "    st.write(\"Select providers to view their annual Additional Contribution Rate (ACR) and churn trends.\")\n",
        "    plot_provider_data(df2, selected)"
      ]
    },
    {
      "cell_type": "code",
      "execution_count": 7,
      "metadata": {
        "id": "924420e7"
      },
      "outputs": [],
      "source": [
        "!mkdir -p webUI/.streamlit"
      ]
    },
    {
      "cell_type": "code",
      "execution_count": 8,
      "metadata": {
        "colab": {
          "base_uri": "https://localhost:8080/"
        },
        "id": "sk3i9GRluTf8",
        "outputId": "9c6ed38c-cea6-4dda-8566-22d0c3419f58"
      },
      "outputs": [
        {
          "name": "stdout",
          "output_type": "stream",
          "text": [
            "Writing webUI/.streamlit/config.toml\n"
          ]
        }
      ],
      "source": [
        "%%writefile webUI/.streamlit/config.toml\n",
        "[theme]\n",
        "primaryColor = \"#013220\"\n",
        "backgroundColor = \"#f7f7f7\"\n",
        "secondaryBackgroundColor = \"#eeeeee\"\n",
        "textColor = \"#262730\"\n",
        "font = \"sans serif\""
      ]
    },
    {
      "cell_type": "code",
      "execution_count": 9,
      "metadata": {
        "colab": {
          "base_uri": "https://localhost:8080/"
        },
        "id": "Fxx7iNqqv8uU",
        "outputId": "a727d29b-4ad3-446b-ce06-281bcfcce4e9"
      },
      "outputs": [
        {
          "name": "stdout",
          "output_type": "stream",
          "text": [
            "import os\n",
            "import sys\n",
            "from PIL import Image\n",
            "\n",
            "# Make project root importable\n"
          ]
        }
      ],
      "source": [
        "!sed -n '1,5p' webUI/streamlit_app.py"
      ]
    },
    {
      "cell_type": "markdown",
      "metadata": {
        "id": "aasF7ZxnBOoK"
      },
      "source": [
        "# **Place your NGROK Authtoken here**"
      ]
    },
    {
      "cell_type": "code",
      "execution_count": 10,
      "metadata": {
        "colab": {
          "base_uri": "https://localhost:8080/"
        },
        "id": "e68pAKeBxSkQ",
        "outputId": "7e19686c-7882-400a-eede-0088f47f9d84"
      },
      "outputs": [
        {
          "name": "stdout",
          "output_type": "stream",
          "text": []
        }
      ],
      "source": [
        "# 1. Install pyngrok if you haven't already\n",
        "!pip install pyngrok --quiet\n",
        "#ngrok.kill()\n",
        "# 2. Import and set your authtoken\n",
        "from pyngrok import ngrok\n",
        "\n",
        "ngrok.set_auth_token(\"2zAs5L5ik3JXPVytqbn8FvyRElQ_6kSBLh2WnJkHvm8ZxSpKg\") ##Replace this Authtoken with your own key"
      ]
    },
    {
      "cell_type": "markdown",
      "metadata": {
        "id": "xxKUgwLcCA6p"
      },
      "source": [
        "# You will get your link for the webUI in the output of the cell below"
      ]
    },
    {
      "cell_type": "code",
      "execution_count": 14,
      "metadata": {
        "colab": {
          "base_uri": "https://localhost:8080/"
        },
        "id": "i4l2cyHDwHCN",
        "outputId": "be181c0c-06df-48ad-acb0-d52a6aa6c1d4"
      },
      "outputs": [
        {
          "name": "stdout",
          "output_type": "stream",
          "text": [
            "🔗 Your app is live at: https://0c98-34-169-17-248.ngrok-free.app\n"
          ]
        }
      ],
      "source": [
        "# Start Streamlit in the background\n",
        "get_ipython().system_raw(\"streamlit run webUI/streamlit_app.py &\")\n",
        "\n",
        "#Tunnel with ngrok\n",
        "from pyngrok import ngrok\n",
        "print(\"🔗 Your app is live at:\", ngrok.connect(8501).public_url)"
      ]
    },
    {
      "cell_type": "code",
      "execution_count": 11,
      "metadata": {
        "colab": {
          "base_uri": "https://localhost:8080/"
        },
        "id": "PBS6t4iD3BV6",
        "outputId": "7b6974f0-9981-474a-cc5a-8aec5155fe96"
      },
      "outputs": [
        {
          "name": "stdout",
          "output_type": "stream",
          "text": [
            "---- models.py head ----\n",
            "# models.py\n",
            "from sklearn.ensemble import GradientBoostingRegressor, RandomForestRegressor\n",
            "from sklearn.linear_model import Ridge\n",
            "from Pipeline.config import DEFAULT_HYPERPARAMS\n",
            "\n"
          ]
        }
      ],
      "source": [
        "%%bash\n",
        "cd /content/team3\n",
        "\n",
        "# 1) Ensure Pipeline is a package\n",
        "touch Pipeline/__init__.py\n",
        "\n",
        "# 2) Replace the bad import with the correct one:\n",
        "sed -i \\\n",
        "  's|from config import DEFAULT_HYPERPARAMS|from Pipeline.config import DEFAULT_HYPERPARAMS|' \\\n",
        "  Pipeline/models.py\n",
        "\n",
        "# 3) Verify the change:\n",
        "echo \"---- models.py head ----\"\n",
        "head -n 5 Pipeline/models.py"
      ]
    },
    {
      "cell_type": "code",
      "execution_count": 12,
      "metadata": {
        "id": "SmnEWN22iLW1"
      },
      "outputs": [],
      "source": [
        "import os, shutil\n",
        "\n",
        "os.makedirs(\"/content/team3/webUI/assets\", exist_ok=True)\n",
        "\n"
      ]
    },
    {
      "cell_type": "code",
      "execution_count": 13,
      "metadata": {
        "id": "aZJijxbcq8mk"
      },
      "outputs": [],
      "source": [
        "ngrok.kill()\n",
        "get_ipython().system_raw(\"streamlit run /content/team3/webUI/streamlit_app.py &\")"
      ]
    },
    {
      "cell_type": "code",
      "execution_count": 15,
      "metadata": {
        "colab": {
          "base_uri": "https://localhost:8080/"
        },
        "id": "WHBJzGjv6wY3",
        "outputId": "b27351a2-b27a-467d-ac61-56367970cae4"
      },
      "outputs": [
        {
          "name": "stdout",
          "output_type": "stream",
          "text": [
            "Year,Provider,Quarter,Members,ACR,RiskFactor,Regionality,Members_Lag,Rate_Lag,ChurnRate,Treatment,QuarterInt,ACR_next,treatment,CATE_DR,CATE_XL,Quarter_Since_Start\n"
          ]
        }
      ],
      "source": [
        "%%bash\n",
        "cd /content/team3\n",
        "head -n 1 Pipeline/data/Cate_added_data.csv"
      ]
    },
    {
      "cell_type": "code",
      "execution_count": 16,
      "metadata": {
        "colab": {
          "base_uri": "https://localhost:8080/"
        },
        "id": "ecEMNNDsyxE-",
        "outputId": "217bc621-4958-412d-ca57-f9641f98b85e"
      },
      "outputs": [
        {
          "name": "stdout",
          "output_type": "stream",
          "text": [
            "Valid configuration file at /root/.config/ngrok/ngrok.yml\n"
          ]
        }
      ],
      "source": [
        "!ngrok config check"
      ]
    },
    {
      "cell_type": "code",
      "execution_count": 17,
      "metadata": {
        "colab": {
          "base_uri": "https://localhost:8080/"
        },
        "id": "U5UubnHe2kOT",
        "outputId": "b7e75bff-5d51-4a16-a5c0-f7274bb117b5"
      },
      "outputs": [
        {
          "name": "stdout",
          "output_type": "stream",
          "text": [
            "ERROR:  authentication failed: Your account is limited to 1 simultaneous ngrok agent sessions.\n",
            "ERROR:  You can run multiple simultaneous tunnels from a single agent session by defining the tunnels in your agent configuration file and starting them with the command `ngrok start --all`.\n",
            "ERROR:  Read more about the agent configuration file: https://ngrok.com/docs/secure-tunnels/ngrok-agent/reference/config\n",
            "ERROR:  You can view your current agent sessions in the dashboard:\n",
            "ERROR:  https://dashboard.ngrok.com/agents\r\n",
            "ERROR:  \r\n",
            "ERROR:  ERR_NGROK_108\r\n",
            "ERROR:  https://ngrok.com/docs/errors/err_ngrok_108\r\n",
            "ERROR:  \n"
          ]
        }
      ],
      "source": [
        "!ngrok start --none"
      ]
    },
    {
      "cell_type": "code",
      "execution_count": 18,
      "metadata": {
        "colab": {
          "base_uri": "https://localhost:8080/"
        },
        "id": "5pmHnvfqWNwg",
        "outputId": "d7bcad3d-b868-4c85-bf57-98bfa2b68e04"
      },
      "outputs": [
        {
          "name": "stdout",
          "output_type": "stream",
          "text": [
            "Cloning into 'TEAM3_REPO'...\n",
            "fatal: could not read Username for 'https://github.com': No such device or address\n"
          ]
        }
      ],
      "source": [
        "!git clone https://github.com/OmarFajjal/TEAM3_REPO.git"
      ]
    },
    {
      "cell_type": "code",
      "execution_count": 19,
      "metadata": {
        "colab": {
          "base_uri": "https://localhost:8080/"
        },
        "id": "I8ZhAXSsWOVS",
        "outputId": "6faf750a-cd26-45e4-f4ad-5a79b1a2494f"
      },
      "outputs": [
        {
          "name": "stdout",
          "output_type": "stream",
          "text": [
            "ls: cannot access '/content/*.py': No such file or directory\n"
          ]
        }
      ],
      "source": [
        "!ls /content/*.py"
      ]
    },
    {
      "cell_type": "code",
      "execution_count": 20,
      "metadata": {
        "colab": {
          "base_uri": "https://localhost:8080/"
        },
        "id": "2wQV0dTdWOfR",
        "outputId": "66297e62-dbed-4cd2-86bd-63a610fa2df7"
      },
      "outputs": [
        {
          "name": "stdout",
          "output_type": "stream",
          "text": [
            "[NbConvertApp] WARNING | pattern 'webUIFinal_final3.ipynb' matched no files\n",
            "This application is used to convert notebook files (*.ipynb)\n",
            "        to various other formats.\n",
            "\n",
            "        WARNING: THE COMMANDLINE INTERFACE MAY CHANGE IN FUTURE RELEASES.\n",
            "\n",
            "Options\n",
            "=======\n",
            "The options below are convenience aliases to configurable class-options,\n",
            "as listed in the \"Equivalent to\" description-line of the aliases.\n",
            "To see all configurable class-options for some <cmd>, use:\n",
            "    <cmd> --help-all\n",
            "\n",
            "--debug\n",
            "    set log level to logging.DEBUG (maximize logging output)\n",
            "    Equivalent to: [--Application.log_level=10]\n",
            "--show-config\n",
            "    Show the application's configuration (human-readable format)\n",
            "    Equivalent to: [--Application.show_config=True]\n",
            "--show-config-json\n",
            "    Show the application's configuration (json format)\n",
            "    Equivalent to: [--Application.show_config_json=True]\n",
            "--generate-config\n",
            "    generate default config file\n",
            "    Equivalent to: [--JupyterApp.generate_config=True]\n",
            "-y\n",
            "    Answer yes to any questions instead of prompting.\n",
            "    Equivalent to: [--JupyterApp.answer_yes=True]\n",
            "--execute\n",
            "    Execute the notebook prior to export.\n",
            "    Equivalent to: [--ExecutePreprocessor.enabled=True]\n",
            "--allow-errors\n",
            "    Continue notebook execution even if one of the cells throws an error and include the error message in the cell output (the default behaviour is to abort conversion). This flag is only relevant if '--execute' was specified, too.\n",
            "    Equivalent to: [--ExecutePreprocessor.allow_errors=True]\n",
            "--stdin\n",
            "    read a single notebook file from stdin. Write the resulting notebook with default basename 'notebook.*'\n",
            "    Equivalent to: [--NbConvertApp.from_stdin=True]\n",
            "--stdout\n",
            "    Write notebook output to stdout instead of files.\n",
            "    Equivalent to: [--NbConvertApp.writer_class=StdoutWriter]\n",
            "--inplace\n",
            "    Run nbconvert in place, overwriting the existing notebook (only\n",
            "            relevant when converting to notebook format)\n",
            "    Equivalent to: [--NbConvertApp.use_output_suffix=False --NbConvertApp.export_format=notebook --FilesWriter.build_directory=]\n",
            "--clear-output\n",
            "    Clear output of current file and save in place,\n",
            "            overwriting the existing notebook.\n",
            "    Equivalent to: [--NbConvertApp.use_output_suffix=False --NbConvertApp.export_format=notebook --FilesWriter.build_directory= --ClearOutputPreprocessor.enabled=True]\n",
            "--coalesce-streams\n",
            "    Coalesce consecutive stdout and stderr outputs into one stream (within each cell).\n",
            "    Equivalent to: [--NbConvertApp.use_output_suffix=False --NbConvertApp.export_format=notebook --FilesWriter.build_directory= --CoalesceStreamsPreprocessor.enabled=True]\n",
            "--no-prompt\n",
            "    Exclude input and output prompts from converted document.\n",
            "    Equivalent to: [--TemplateExporter.exclude_input_prompt=True --TemplateExporter.exclude_output_prompt=True]\n",
            "--no-input\n",
            "    Exclude input cells and output prompts from converted document.\n",
            "            This mode is ideal for generating code-free reports.\n",
            "    Equivalent to: [--TemplateExporter.exclude_output_prompt=True --TemplateExporter.exclude_input=True --TemplateExporter.exclude_input_prompt=True]\n",
            "--allow-chromium-download\n",
            "    Whether to allow downloading chromium if no suitable version is found on the system.\n",
            "    Equivalent to: [--WebPDFExporter.allow_chromium_download=True]\n",
            "--disable-chromium-sandbox\n",
            "    Disable chromium security sandbox when converting to PDF..\n",
            "    Equivalent to: [--WebPDFExporter.disable_sandbox=True]\n",
            "--show-input\n",
            "    Shows code input. This flag is only useful for dejavu users.\n",
            "    Equivalent to: [--TemplateExporter.exclude_input=False]\n",
            "--embed-images\n",
            "    Embed the images as base64 dataurls in the output. This flag is only useful for the HTML/WebPDF/Slides exports.\n",
            "    Equivalent to: [--HTMLExporter.embed_images=True]\n",
            "--sanitize-html\n",
            "    Whether the HTML in Markdown cells and cell outputs should be sanitized..\n",
            "    Equivalent to: [--HTMLExporter.sanitize_html=True]\n",
            "--log-level=<Enum>\n",
            "    Set the log level by value or name.\n",
            "    Choices: any of [0, 10, 20, 30, 40, 50, 'DEBUG', 'INFO', 'WARN', 'ERROR', 'CRITICAL']\n",
            "    Default: 30\n",
            "    Equivalent to: [--Application.log_level]\n",
            "--config=<Unicode>\n",
            "    Full path of a config file.\n",
            "    Default: ''\n",
            "    Equivalent to: [--JupyterApp.config_file]\n",
            "--to=<Unicode>\n",
            "    The export format to be used, either one of the built-in formats\n",
            "            ['asciidoc', 'custom', 'html', 'latex', 'markdown', 'notebook', 'pdf', 'python', 'qtpdf', 'qtpng', 'rst', 'script', 'slides', 'webpdf']\n",
            "            or a dotted object name that represents the import path for an\n",
            "            ``Exporter`` class\n",
            "    Default: ''\n",
            "    Equivalent to: [--NbConvertApp.export_format]\n",
            "--template=<Unicode>\n",
            "    Name of the template to use\n",
            "    Default: ''\n",
            "    Equivalent to: [--TemplateExporter.template_name]\n",
            "--template-file=<Unicode>\n",
            "    Name of the template file to use\n",
            "    Default: None\n",
            "    Equivalent to: [--TemplateExporter.template_file]\n",
            "--theme=<Unicode>\n",
            "    Template specific theme(e.g. the name of a JupyterLab CSS theme distributed\n",
            "    as prebuilt extension for the lab template)\n",
            "    Default: 'light'\n",
            "    Equivalent to: [--HTMLExporter.theme]\n",
            "--sanitize_html=<Bool>\n",
            "    Whether the HTML in Markdown cells and cell outputs should be sanitized.This\n",
            "    should be set to True by nbviewer or similar tools.\n",
            "    Default: False\n",
            "    Equivalent to: [--HTMLExporter.sanitize_html]\n",
            "--writer=<DottedObjectName>\n",
            "    Writer class used to write the\n",
            "                                        results of the conversion\n",
            "    Default: 'FilesWriter'\n",
            "    Equivalent to: [--NbConvertApp.writer_class]\n",
            "--post=<DottedOrNone>\n",
            "    PostProcessor class used to write the\n",
            "                                        results of the conversion\n",
            "    Default: ''\n",
            "    Equivalent to: [--NbConvertApp.postprocessor_class]\n",
            "--output=<Unicode>\n",
            "    Overwrite base name use for output files.\n",
            "                Supports pattern replacements '{notebook_name}'.\n",
            "    Default: '{notebook_name}'\n",
            "    Equivalent to: [--NbConvertApp.output_base]\n",
            "--output-dir=<Unicode>\n",
            "    Directory to write output(s) to. Defaults\n",
            "                                  to output to the directory of each notebook. To recover\n",
            "                                  previous default behaviour (outputting to the current\n",
            "                                  working directory) use . as the flag value.\n",
            "    Default: ''\n",
            "    Equivalent to: [--FilesWriter.build_directory]\n",
            "--reveal-prefix=<Unicode>\n",
            "    The URL prefix for reveal.js (version 3.x).\n",
            "            This defaults to the reveal CDN, but can be any url pointing to a copy\n",
            "            of reveal.js.\n",
            "            For speaker notes to work, this must be a relative path to a local\n",
            "            copy of reveal.js: e.g., \"reveal.js\".\n",
            "            If a relative path is given, it must be a subdirectory of the\n",
            "            current directory (from which the server is run).\n",
            "            See the usage documentation\n",
            "            (https://nbconvert.readthedocs.io/en/latest/usage.html#reveal-js-html-slideshow)\n",
            "            for more details.\n",
            "    Default: ''\n",
            "    Equivalent to: [--SlidesExporter.reveal_url_prefix]\n",
            "--nbformat=<Enum>\n",
            "    The nbformat version to write.\n",
            "            Use this to downgrade notebooks.\n",
            "    Choices: any of [1, 2, 3, 4]\n",
            "    Default: 4\n",
            "    Equivalent to: [--NotebookExporter.nbformat_version]\n",
            "\n",
            "Examples\n",
            "--------\n",
            "\n",
            "    The simplest way to use nbconvert is\n",
            "\n",
            "            > jupyter nbconvert mynotebook.ipynb --to html\n",
            "\n",
            "            Options include ['asciidoc', 'custom', 'html', 'latex', 'markdown', 'notebook', 'pdf', 'python', 'qtpdf', 'qtpng', 'rst', 'script', 'slides', 'webpdf'].\n",
            "\n",
            "            > jupyter nbconvert --to latex mynotebook.ipynb\n",
            "\n",
            "            Both HTML and LaTeX support multiple output templates. LaTeX includes\n",
            "            'base', 'article' and 'report'.  HTML includes 'basic', 'lab' and\n",
            "            'classic'. You can specify the flavor of the format used.\n",
            "\n",
            "            > jupyter nbconvert --to html --template lab mynotebook.ipynb\n",
            "\n",
            "            You can also pipe the output to stdout, rather than a file\n",
            "\n",
            "            > jupyter nbconvert mynotebook.ipynb --stdout\n",
            "\n",
            "            PDF is generated via latex\n",
            "\n",
            "            > jupyter nbconvert mynotebook.ipynb --to pdf\n",
            "\n",
            "            You can get (and serve) a Reveal.js-powered slideshow\n",
            "\n",
            "            > jupyter nbconvert myslides.ipynb --to slides --post serve\n",
            "\n",
            "            Multiple notebooks can be given at the command line in a couple of\n",
            "            different ways:\n",
            "\n",
            "            > jupyter nbconvert notebook*.ipynb\n",
            "            > jupyter nbconvert notebook1.ipynb notebook2.ipynb\n",
            "\n",
            "            or you can specify the notebooks list in a config file, containing::\n",
            "\n",
            "                c.NbConvertApp.notebooks = [\"my_notebook.ipynb\"]\n",
            "\n",
            "            > jupyter nbconvert --config mycfg.py\n",
            "\n",
            "To see all available configurables, use `--help-all`.\n",
            "\n"
          ]
        }
      ],
      "source": [
        "!jupyter nbconvert --to script webUIFinal_final3.ipynb"
      ]
    }
  ],
  "metadata": {
    "colab": {
      "provenance": []
    },
    "kernelspec": {
      "display_name": "Python 3",
      "name": "python3"
    },
    "language_info": {
      "name": "python"
    }
  },
  "nbformat": 4,
  "nbformat_minor": 0
}
